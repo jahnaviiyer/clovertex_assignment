{
 "cells": [
  {
   "cell_type": "markdown",
   "id": "c9cc6c28-5ca3-4506-82bd-a265217fddd0",
   "metadata": {},
   "source": [
    "# Assignment 1: Genomics Annotation Analysis\n",
    "\n",
    "**Objective:**  \n",
    "Analyze annotated VCFs from Ensembl VEP to extract key variant statistics.\n",
    "\n",
    "**Goals:**  \n",
    "1. Count total variants  \n",
    "2. Count unique genes  \n",
    "3. Count unique disease/trait entries  \n",
    "4. List pathogenic / likely pathogenic variants  \n",
    "5. Count variants per chromosome and detect missing SNP IDs  \n",
    "6. Generate a comprehensive summary log (CSV output)\n",
    "\n",
    "**Input Files:**  \n",
    "- `test1_first50_vep_output.vcf`  \n",
    "- `test2_first50_vep_output.vcf`"
   ]
  },
  {
   "cell_type": "code",
   "execution_count": 30,
   "id": "b8750492-3742-4ed0-a5c4-47493a64974b",
   "metadata": {},
   "outputs": [],
   "source": [
    "import pandas as pd\n",
    "import matplotlib.pyplot as plt\n",
    "import os"
   ]
  },
  {
   "cell_type": "code",
   "execution_count": 31,
   "id": "6e3ff139-137d-4a49-b246-3a1744b435cf",
   "metadata": {},
   "outputs": [],
   "source": [
    "# === Define directories ===\n",
    "VCF_DIR = os.path.expanduser('~/clovertex_assignment/vcfs')\n",
    "OUT_DIR = os.path.expanduser('~/clovertex_assignment/assignment_1_genomics_annotation/results')\n",
    "os.makedirs(OUT_DIR, exist_ok=True)"
   ]
  },
  {
   "cell_type": "code",
   "execution_count": 32,
   "id": "54f88aab-8898-4253-847e-de291432f205",
   "metadata": {},
   "outputs": [],
   "source": [
    "# === Load your VCFs (current 50-variant test files) ===\n",
    "test1_vcf = os.path.join(VCF_DIR, 'test1_first50_vep_output.vcf')\n",
    "test2_vcf = os.path.join(VCF_DIR, 'test2_first50_vep_output.vcf')"
   ]
  },
  {
   "cell_type": "code",
   "execution_count": 33,
   "id": "b8a8e881-1131-40df-9fda-cb92b3b8ad8f",
   "metadata": {},
   "outputs": [],
   "source": [
    "# --- Parse VCF lines (auto-handle 8–10 columns) ---\n",
    "def load_vcf(path):\n",
    "    rows = []\n",
    "    with open(path) as f:\n",
    "        for line in f:\n",
    "            if not line.startswith(\"#\"):\n",
    "                rows.append(line.strip().split(\"\\t\"))\n",
    "\n",
    "    # Determine correct number of columns\n",
    "    if not rows:\n",
    "        raise ValueError(f\"No variant lines found in {path}\")\n",
    "    col_count = len(rows[0])\n",
    "\n",
    "    # Assign headers dynamically\n",
    "    if col_count == 8:\n",
    "        cols = [\"CHROM\", \"POS\", \"ID\", \"REF\", \"ALT\", \"QUAL\", \"FILTER\", \"INFO\"]\n",
    "    elif col_count == 9:\n",
    "        cols = [\"CHROM\", \"POS\", \"ID\", \"REF\", \"ALT\", \"QUAL\", \"FILTER\", \"INFO\", \"FORMAT\"]\n",
    "    elif col_count == 10:\n",
    "        cols = [\"CHROM\", \"POS\", \"ID\", \"REF\", \"ALT\", \"QUAL\", \"FILTER\", \"INFO\", \"FORMAT\", \"SAMPLE\"]\n",
    "    else:\n",
    "        cols = [f\"col{i}\" for i in range(col_count)]  # fallback safety\n",
    "\n",
    "    df = pd.DataFrame(rows, columns=cols)\n",
    "    return df\n",
    "\n",
    "df1 = load_vcf(test1_vcf)\n",
    "df2 = load_vcf(test2_vcf)"
   ]
  },
  {
   "cell_type": "code",
   "execution_count": 34,
   "id": "34a894b6-dfe2-4919-9a95-592ac78869af",
   "metadata": {},
   "outputs": [
    {
     "name": "stdout",
     "output_type": "stream",
     "text": [
      "✅ Loaded VCFs successfully: test1 = 50 variants, test2 = 50 variants\n",
      "✅ Columns in test1: ['CHROM', 'POS', 'ID', 'REF', 'ALT', 'QUAL', 'FILTER', 'INFO', 'FORMAT', 'SAMPLE']\n"
     ]
    }
   ],
   "source": [
    "print(f\"✅ Loaded VCFs successfully: test1 = {len(df1)} variants, test2 = {len(df2)} variants\")\n",
    "print(\"✅ Columns in test1:\", df1.columns.tolist())"
   ]
  },
  {
   "cell_type": "code",
   "execution_count": 35,
   "id": "3ebae7e7-192c-4d69-8bf6-0c63bf8d42c0",
   "metadata": {},
   "outputs": [
    {
     "name": "stdout",
     "output_type": "stream",
     "text": [
      "Total Variants:\n",
      "{'test1': 50, 'test2': 50}\n"
     ]
    }
   ],
   "source": [
    "print(\"Total Variants:\")\n",
    "print({\n",
    "    \"test1\": len(df1),\n",
    "    \"test2\": len(df2)\n",
    "})"
   ]
  },
  {
   "cell_type": "code",
   "execution_count": 36,
   "id": "b2c068c7-2888-4b7b-a6fe-a6763073c698",
   "metadata": {},
   "outputs": [
    {
     "name": "stdout",
     "output_type": "stream",
     "text": [
      "✅ Extracted annotations: test1 = 560 rows, test2 = 581 rows\n"
     ]
    }
   ],
   "source": [
    "# --- Extract CSQ annotations from INFO ---\n",
    "def extract_ann_df(df):\n",
    "    rows = []\n",
    "    for _, r in df.iterrows():\n",
    "        if \"CSQ=\" in r[\"INFO\"]:\n",
    "            csq_part = r[\"INFO\"].split(\"CSQ=\")[1].split(\";\")[0]\n",
    "            for e in csq_part.split(\",\"):\n",
    "                rows.append({\"CHROM\": r[\"CHROM\"], \"POS\": r[\"POS\"], \"CSQ\": e})\n",
    "    return pd.DataFrame(rows)\n",
    "\n",
    "expanded1 = extract_ann_df(df1)\n",
    "expanded2 = extract_ann_df(df2)\n",
    "\n",
    "print(f\"✅ Extracted annotations: test1 = {len(expanded1)} rows, test2 = {len(expanded2)} rows\")\n"
   ]
  },
  {
   "cell_type": "code",
   "execution_count": 37,
   "id": "9b03d441-d151-40d4-9179-adbb1104f485",
   "metadata": {},
   "outputs": [
    {
     "name": "stdout",
     "output_type": "stream",
     "text": [
      "Expanded Test1: 560 entries\n",
      "Expanded Test2: 581 entries\n"
     ]
    }
   ],
   "source": [
    "print(f\"Expanded Test1: {len(expanded1)} entries\")\n",
    "print(f\"Expanded Test2: {len(expanded2)} entries\")"
   ]
  },
  {
   "cell_type": "code",
   "execution_count": 9,
   "id": "0fcc80e1-3e47-439b-8b2a-857e4ee30070",
   "metadata": {},
   "outputs": [
    {
     "data": {
      "text/html": [
       "<div>\n",
       "<style scoped>\n",
       "    .dataframe tbody tr th:only-of-type {\n",
       "        vertical-align: middle;\n",
       "    }\n",
       "\n",
       "    .dataframe tbody tr th {\n",
       "        vertical-align: top;\n",
       "    }\n",
       "\n",
       "    .dataframe thead th {\n",
       "        text-align: right;\n",
       "    }\n",
       "</style>\n",
       "<table border=\"1\" class=\"dataframe\">\n",
       "  <thead>\n",
       "    <tr style=\"text-align: right;\">\n",
       "      <th></th>\n",
       "      <th>sample</th>\n",
       "      <th>total_variants</th>\n",
       "      <th>annotated_variant_count</th>\n",
       "      <th>unique_genes_count</th>\n",
       "      <th>unique_genes_example</th>\n",
       "      <th>chr_counts</th>\n",
       "      <th>rsid_present</th>\n",
       "      <th>rsid_missing</th>\n",
       "    </tr>\n",
       "  </thead>\n",
       "  <tbody>\n",
       "    <tr>\n",
       "      <th>0</th>\n",
       "      <td>test1_50</td>\n",
       "      <td>50</td>\n",
       "      <td>50</td>\n",
       "      <td>0</td>\n",
       "      <td>[]</td>\n",
       "      <td>{'1': 50}</td>\n",
       "      <td>0</td>\n",
       "      <td>50</td>\n",
       "    </tr>\n",
       "    <tr>\n",
       "      <th>1</th>\n",
       "      <td>test2_50</td>\n",
       "      <td>50</td>\n",
       "      <td>50</td>\n",
       "      <td>0</td>\n",
       "      <td>[]</td>\n",
       "      <td>{'MT': 50}</td>\n",
       "      <td>50</td>\n",
       "      <td>0</td>\n",
       "    </tr>\n",
       "  </tbody>\n",
       "</table>\n",
       "</div>"
      ],
      "text/plain": [
       "     sample  total_variants  annotated_variant_count  unique_genes_count  \\\n",
       "0  test1_50              50                       50                   0   \n",
       "1  test2_50              50                       50                   0   \n",
       "\n",
       "  unique_genes_example  chr_counts  rsid_present  rsid_missing  \n",
       "0                   []   {'1': 50}             0            50  \n",
       "1                   []  {'MT': 50}            50             0  "
      ]
     },
     "execution_count": 9,
     "metadata": {},
     "output_type": "execute_result"
    }
   ],
   "source": [
    "unique_genes = {\n",
    "    \"test1\": expanded1[\"SYMBOL\"].nunique(),\n",
    "    \"test2\": expanded2[\"SYMBOL\"].nunique()\n",
    "}\n",
    "\n",
    "print(\"Unique Gene Counts:\")\n",
    "print(unique_genes)# Cell 5: sanity & quick counts\n",
    "def summarize_variants(df_vars, df_ann, sample_name):\n",
    "    total_variants = len(df_vars)\n",
    "    annotated_variant_count = df_ann[['CHROM','POS']].drop_duplicates().shape[0]\n",
    "    # unique gene symbols (common CSQ field name is 'SYMBOL')\n",
    "    gene_col = None\n",
    "    for c in df_ann.columns:\n",
    "        if c.upper() == 'SYMBOL' or c.lower() == 'symbol':\n",
    "            gene_col = c\n",
    "            break\n",
    "    unique_genes = sorted(df_ann[gene_col].dropna().unique()) if gene_col else []\n",
    "    # per-chrom counts\n",
    "    chr_counts = df_vars['CHROM'].value_counts().to_dict()\n",
    "    # rsID presence\n",
    "    rsid_present = df_vars['ID'].apply(lambda x: x != '.' and x != '').sum()\n",
    "    rsid_missing = total_variants - rsid_present\n",
    "\n",
    "    summary = {\n",
    "        'sample': sample_name,\n",
    "        'total_variants': total_variants,\n",
    "        'annotated_variant_count': annotated_variant_count,\n",
    "        'unique_genes_count': len(unique_genes),\n",
    "        'unique_genes_example': unique_genes[:10],\n",
    "        'chr_counts': chr_counts,\n",
    "        'rsid_present': int(rsid_present),\n",
    "        'rsid_missing': int(rsid_missing)\n",
    "    }\n",
    "    return summary\n",
    "\n",
    "s1 = summarize_variants(df1_vars, df1_ann, 'test1_50')\n",
    "s2 = summarize_variants(df2_vars, df2_ann, 'test2_50')\n",
    "pd.DataFrame([s1, s2])"
   ]
  },
  {
   "cell_type": "code",
   "execution_count": 41,
   "id": "843d99f1-6e4a-4df5-8887-b83205429560",
   "metadata": {},
   "outputs": [
    {
     "name": "stdout",
     "output_type": "stream",
     "text": [
      "⚠️ Warning: No 'Consequence' column found — returning empty DataFrame.\n",
      "⚠️ Warning: No 'Consequence' column found — returning empty DataFrame.\n"
     ]
    }
   ],
   "source": [
    "def extract_disease_traits(df):\n",
    "    # Find the correct column name for consequence info (case-insensitive)\n",
    "    cons_col = next((c for c in df.columns if c.lower() == \"consequence\"), None)\n",
    "    \n",
    "    if cons_col:\n",
    "        disease_like = df[df[cons_col].str.contains(\"disease|trait|clinical|syndrome\", case=False, na=False)]\n",
    "    else:\n",
    "        print(\"⚠️ Warning: No 'Consequence' column found — returning empty DataFrame.\")\n",
    "        disease_like = pd.DataFrame()\n",
    "    \n",
    "    return disease_like\n",
    "\n",
    "traits1 = extract_disease_traits(expanded1)\n",
    "traits2 = extract_disease_traits(expanded2)"
   ]
  },
  {
   "cell_type": "code",
   "execution_count": 42,
   "id": "58447b00-1626-4311-acea-52b43ea23538",
   "metadata": {},
   "outputs": [
    {
     "name": "stdout",
     "output_type": "stream",
     "text": [
      "Test1: Traits/Disease annotations → 0\n",
      "Test2: Traits/Disease annotations → 0\n"
     ]
    }
   ],
   "source": [
    "print(\"Test1: Traits/Disease annotations →\", len(traits1))\n",
    "print(\"Test2: Traits/Disease annotations →\", len(traits2))"
   ]
  },
  {
   "cell_type": "code",
   "execution_count": 43,
   "id": "be96a832-f89a-41b2-9995-831eaff1a7fc",
   "metadata": {},
   "outputs": [
    {
     "name": "stdout",
     "output_type": "stream",
     "text": [
      "⚠️ Warning: No 'Consequence' column found — returning empty DataFrames.\n",
      "⚠️ Warning: No 'Consequence' column found — returning empty DataFrames.\n",
      "✅ Test1: 0 pathogenic, 0 likely pathogenic, 0 total combined\n",
      "✅ Test2: 0 pathogenic, 0 likely pathogenic, 0 total combined\n"
     ]
    },
    {
     "data": {
      "text/html": [
       "<div>\n",
       "<style scoped>\n",
       "    .dataframe tbody tr th:only-of-type {\n",
       "        vertical-align: middle;\n",
       "    }\n",
       "\n",
       "    .dataframe tbody tr th {\n",
       "        vertical-align: top;\n",
       "    }\n",
       "\n",
       "    .dataframe thead th {\n",
       "        text-align: right;\n",
       "    }\n",
       "</style>\n",
       "<table border=\"1\" class=\"dataframe\">\n",
       "  <thead>\n",
       "    <tr style=\"text-align: right;\">\n",
       "      <th></th>\n",
       "    </tr>\n",
       "  </thead>\n",
       "  <tbody>\n",
       "  </tbody>\n",
       "</table>\n",
       "</div>"
      ],
      "text/plain": [
       "Empty DataFrame\n",
       "Columns: []\n",
       "Index: []"
      ]
     },
     "execution_count": 43,
     "metadata": {},
     "output_type": "execute_result"
    }
   ],
   "source": [
    "def find_pathogenic_variants(df):\n",
    "    # Try to find the column that holds consequence info (case-insensitive)\n",
    "    cons_col = next((c for c in df.columns if c.lower() == \"consequence\"), None)\n",
    "    \n",
    "    if not cons_col:\n",
    "        print(\"⚠️ Warning: No 'Consequence' column found — returning empty DataFrames.\")\n",
    "        empty_df = pd.DataFrame()\n",
    "        return empty_df, empty_df, empty_df\n",
    "\n",
    "    # Pathogenic only\n",
    "    patho = df[df[cons_col].str.contains(r\"\\bpathogenic\\b\", case=False, na=False)]\n",
    "    # Likely pathogenic only\n",
    "    likely_patho = df[df[cons_col].str.contains(r\"likely\\s*pathogenic\", case=False, na=False)]\n",
    "    # Combined set (union)\n",
    "    combined = pd.concat([patho, likely_patho]).drop_duplicates()\n",
    "    \n",
    "    return patho, likely_patho, combined\n",
    "\n",
    "\n",
    "# Apply the function to both datasets\n",
    "patho1, likely1, combined1 = find_pathogenic_variants(expanded1)\n",
    "patho2, likely2, combined2 = find_pathogenic_variants(expanded2)\n",
    "\n",
    "# Print quick stats\n",
    "print(f\"✅ Test1: {len(patho1)} pathogenic, {len(likely1)} likely pathogenic, {len(combined1)} total combined\")\n",
    "print(f\"✅ Test2: {len(patho2)} pathogenic, {len(likely2)} likely pathogenic, {len(combined2)} total combined\")\n",
    "\n",
    "# Show first few rows\n",
    "combined1.head()"
   ]
  },
  {
   "cell_type": "code",
   "execution_count": 14,
   "id": "df0d0156-9e1f-460b-8f96-2bc4ddb9d99b",
   "metadata": {},
   "outputs": [
    {
     "name": "stdout",
     "output_type": "stream",
     "text": [
      "test1 pathogenic/high-impact rows: 0\n",
      "test2 pathogenic/high-impact rows: 0\n"
     ]
    },
    {
     "data": {
      "text/plain": [
       "(Empty DataFrame\n",
       " Columns: []\n",
       " Index: [],\n",
       " Empty DataFrame\n",
       " Columns: []\n",
       " Index: [])"
      ]
     },
     "execution_count": 14,
     "metadata": {},
     "output_type": "execute_result"
    }
   ],
   "source": [
    "# Cell 6: find variants with high impact or ClinVar pathogenic labels (if present)\n",
    "def find_pathogenic_and_high_impact(df_ann):\n",
    "    results = []\n",
    "    # Columns may vary; standard names: IMPACT, CLIN_SIG (case-insensitive)\n",
    "    impact_col = next((c for c in df_ann.columns if c.upper() == 'IMPACT'), None)\n",
    "    clin_cols = [c for c in df_ann.columns if 'clin' in c.lower() or 'CLIN' in c]\n",
    "    for idx, row in df_ann.iterrows():\n",
    "        impact = row.get(impact_col, '') if impact_col else ''\n",
    "        clin_sig = ''\n",
    "        for c in clin_cols:\n",
    "            v = row.get(c, '')\n",
    "            if v:\n",
    "                clin_sig = str(v)\n",
    "                break\n",
    "        is_high_impact = str(impact).upper() in ('HIGH', 'MODERATE')\n",
    "        is_pathogenic = False\n",
    "        if clin_sig and 'path' in clin_sig.lower():  # matches 'pathogenic' or 'likely_pathogenic'\n",
    "            is_pathogenic = True\n",
    "        if is_high_impact or is_pathogenic:\n",
    "            results.append({\n",
    "                'CHROM': row.get('CHROM'),\n",
    "                'POS': row.get('POS'),\n",
    "                'ID': row.get('ID'),\n",
    "                'REF': row.get('REF'),\n",
    "                'ALT': row.get('ALT'),\n",
    "                'IMPACT': impact,\n",
    "                'CLIN_SIG': clin_sig\n",
    "            })\n",
    "    return pd.DataFrame(results).drop_duplicates()\n",
    "\n",
    "path1 = find_pathogenic_and_high_impact(df1_ann)\n",
    "path2 = find_pathogenic_and_high_impact(df2_ann)\n",
    "\n",
    "print(\"test1 pathogenic/high-impact rows:\", len(path1))\n",
    "print(\"test2 pathogenic/high-impact rows:\", len(path2))\n",
    "\n",
    "path1.head(), path2.head()"
   ]
  },
  {
   "cell_type": "code",
   "execution_count": 15,
   "id": "f3e4be5b-6f94-4bf6-890f-ac7110f9b7d4",
   "metadata": {},
   "outputs": [
    {
     "name": "stdout",
     "output_type": "stream",
     "text": [
      "test1 preds: {'sift_deleterious': None, 'polyphen_damaging': None}\n",
      "test2 preds: {'sift_deleterious': None, 'polyphen_damaging': None}\n"
     ]
    }
   ],
   "source": [
    "# Count SIFT deleterious / PolyPhen damaging if columns present\n",
    "def pred_summary(df_ann):\n",
    "    sift_col = next((c for c in df_ann.columns if 'sift' in c.lower()), None)\n",
    "    poly_col = next((c for c in df_ann.columns if 'polyphen' in c.lower()), None)\n",
    "    out = {}\n",
    "    if sift_col:\n",
    "        out['sift_deleterious'] = df_ann[sift_col].fillna('').str.contains('deleterious', case=False).sum()\n",
    "    else:\n",
    "        out['sift_deleterious'] = None\n",
    "    if poly_col:\n",
    "        out['polyphen_damaging'] = df_ann[poly_col].fillna('').str.contains('damaging|possibly_damaging|probably_damaging', case=False).sum()\n",
    "    else:\n",
    "        out['polyphen_damaging'] = None\n",
    "    return out\n",
    "\n",
    "print(\"test1 preds:\", pred_summary(df1_ann))\n",
    "print(\"test2 preds:\", pred_summary(df2_ann))"
   ]
  },
  {
   "cell_type": "code",
   "execution_count": 44,
   "id": "e731c57a-9b52-4127-866b-6d04ee6ec046",
   "metadata": {},
   "outputs": [
    {
     "name": "stdout",
     "output_type": "stream",
     "text": [
      "⚠️ Warning: No gene-related column found.\n",
      "⚠️ Warning: No gene-related column found.\n",
      "✅ Summary log saved to: /home/user/clovertex_assignment/assignment_1_genomics_annotation/results/summary_log_first50.csv\n"
     ]
    },
    {
     "data": {
      "text/html": [
       "<div>\n",
       "<style scoped>\n",
       "    .dataframe tbody tr th:only-of-type {\n",
       "        vertical-align: middle;\n",
       "    }\n",
       "\n",
       "    .dataframe tbody tr th {\n",
       "        vertical-align: top;\n",
       "    }\n",
       "\n",
       "    .dataframe thead th {\n",
       "        text-align: right;\n",
       "    }\n",
       "</style>\n",
       "<table border=\"1\" class=\"dataframe\">\n",
       "  <thead>\n",
       "    <tr style=\"text-align: right;\">\n",
       "      <th></th>\n",
       "      <th>Sample</th>\n",
       "      <th>Total_variants</th>\n",
       "      <th>Unique_genes</th>\n",
       "      <th>Traits_found</th>\n",
       "      <th>Pathogenic_variants</th>\n",
       "      <th>Missing_SNP_IDs</th>\n",
       "    </tr>\n",
       "  </thead>\n",
       "  <tbody>\n",
       "    <tr>\n",
       "      <th>0</th>\n",
       "      <td>test1_first50</td>\n",
       "      <td>50</td>\n",
       "      <td>0</td>\n",
       "      <td>0</td>\n",
       "      <td>0</td>\n",
       "      <td>None</td>\n",
       "    </tr>\n",
       "    <tr>\n",
       "      <th>1</th>\n",
       "      <td>test2_first50</td>\n",
       "      <td>50</td>\n",
       "      <td>0</td>\n",
       "      <td>0</td>\n",
       "      <td>0</td>\n",
       "      <td>None</td>\n",
       "    </tr>\n",
       "  </tbody>\n",
       "</table>\n",
       "</div>"
      ],
      "text/plain": [
       "          Sample  Total_variants  Unique_genes  Traits_found  \\\n",
       "0  test1_first50              50             0             0   \n",
       "1  test2_first50              50             0             0   \n",
       "\n",
       "   Pathogenic_variants Missing_SNP_IDs  \n",
       "0                    0            None  \n",
       "1                    0            None  "
      ]
     },
     "execution_count": 44,
     "metadata": {},
     "output_type": "execute_result"
    }
   ],
   "source": [
    "# --- Auto-detect gene column ---\n",
    "def get_gene_count(df):\n",
    "    \"\"\"Return number of unique genes, handling missing or differently-named columns.\"\"\"\n",
    "    gene_col = next((c for c in df.columns if c.lower() in ['gene', 'symbol', 'gene_name', 'gene_symbol']), None)\n",
    "    if gene_col:\n",
    "        return df[gene_col].nunique()\n",
    "    else:\n",
    "        print(\"⚠️ Warning: No gene-related column found.\")\n",
    "        return 0\n",
    "\n",
    "# --- Build summary safely ---\n",
    "summary = pd.DataFrame([\n",
    "    {\n",
    "        \"Sample\": \"test1_first50\",\n",
    "        \"Total_variants\": len(df1),\n",
    "        \"Unique_genes\": get_gene_count(expanded1),\n",
    "        \"Traits_found\": len(traits1) if 'traits1' in locals() else 0,\n",
    "        \"Pathogenic_variants\": len(patho1) if 'patho1' in locals() else 0,\n",
    "        \"Missing_SNP_IDs\": miss1 if 'miss1' in locals() else None\n",
    "    },\n",
    "    {\n",
    "        \"Sample\": \"test2_first50\",\n",
    "        \"Total_variants\": len(df2),\n",
    "        \"Unique_genes\": get_gene_count(expanded2),\n",
    "        \"Traits_found\": len(traits2) if 'traits2' in locals() else 0,\n",
    "        \"Pathogenic_variants\": len(patho2) if 'patho2' in locals() else 0,\n",
    "        \"Missing_SNP_IDs\": miss2 if 'miss2' in locals() else None\n",
    "    }\n",
    "])\n",
    "\n",
    "# --- Save the summary CSV ---\n",
    "out_path = \"/home/user/clovertex_assignment/assignment_1_genomics_annotation/results/summary_log_first50.csv\"\n",
    "summary.to_csv(out_path, index=False)\n",
    "\n",
    "print(f\"✅ Summary log saved to: {out_path}\")\n",
    "summary"
   ]
  },
  {
   "cell_type": "code",
   "execution_count": 18,
   "id": "f2f67cc5-d367-495e-aef0-181d27ec784e",
   "metadata": {},
   "outputs": [
    {
     "name": "stdout",
     "output_type": "stream",
     "text": [
      "✅ Summary log found! Preview below:\n"
     ]
    },
    {
     "data": {
      "text/html": [
       "<div>\n",
       "<style scoped>\n",
       "    .dataframe tbody tr th:only-of-type {\n",
       "        vertical-align: middle;\n",
       "    }\n",
       "\n",
       "    .dataframe tbody tr th {\n",
       "        vertical-align: top;\n",
       "    }\n",
       "\n",
       "    .dataframe thead th {\n",
       "        text-align: right;\n",
       "    }\n",
       "</style>\n",
       "<table border=\"1\" class=\"dataframe\">\n",
       "  <thead>\n",
       "    <tr style=\"text-align: right;\">\n",
       "      <th></th>\n",
       "      <th>Sample</th>\n",
       "      <th>Total_variants</th>\n",
       "      <th>Unique_genes</th>\n",
       "      <th>Traits_found</th>\n",
       "      <th>Pathogenic_variants</th>\n",
       "      <th>Missing_SNP_IDs</th>\n",
       "    </tr>\n",
       "  </thead>\n",
       "  <tbody>\n",
       "    <tr>\n",
       "      <th>0</th>\n",
       "      <td>test1_first50</td>\n",
       "      <td>50</td>\n",
       "      <td>31</td>\n",
       "      <td>0</td>\n",
       "      <td>0</td>\n",
       "      <td>50</td>\n",
       "    </tr>\n",
       "    <tr>\n",
       "      <th>1</th>\n",
       "      <td>test2_first50</td>\n",
       "      <td>50</td>\n",
       "      <td>16</td>\n",
       "      <td>0</td>\n",
       "      <td>0</td>\n",
       "      <td>0</td>\n",
       "    </tr>\n",
       "  </tbody>\n",
       "</table>\n",
       "</div>"
      ],
      "text/plain": [
       "          Sample  Total_variants  Unique_genes  Traits_found  \\\n",
       "0  test1_first50              50            31             0   \n",
       "1  test2_first50              50            16             0   \n",
       "\n",
       "   Pathogenic_variants  Missing_SNP_IDs  \n",
       "0                    0               50  \n",
       "1                    0                0  "
      ]
     },
     "metadata": {},
     "output_type": "display_data"
    }
   ],
   "source": [
    "summary_path = os.path.expanduser('~/clovertex_assignment/assignment_1_genomics_annotation/results/summary_log_first50.csv')\n",
    "\n",
    "if os.path.exists(summary_path):\n",
    "    print(\"✅ Summary log found! Preview below:\")\n",
    "    display(pd.read_csv(summary_path))\n",
    "else:\n",
    "    print(\"❌ Summary log not found.\")"
   ]
  },
  {
   "cell_type": "code",
   "execution_count": 19,
   "id": "068bc9a0-6e7d-4a08-8779-26d8d8d53640",
   "metadata": {},
   "outputs": [
    {
     "name": "stdout",
     "output_type": "stream",
     "text": [
      "summary_log_first50.csv - 137 bytes\n",
      "test1_data_50_annotations_expanded.csv - 138221 bytes\n",
      "test1_first50_annotations_expanded.csv - 138221 bytes\n",
      "test1_first50_pathogenic_or_highimpact.csv - 1 bytes\n",
      "test1_first50_summary.csv - 158 bytes\n",
      "test2_data_50_annotations_expanded.csv - 117012 bytes\n",
      "test2_first50_annotations_expanded.csv - 117012 bytes\n",
      "test2_first50_pathogenic_or_highimpact.csv - 1 bytes\n",
      "test2_first50_summary.csv - 159 bytes\n"
     ]
    }
   ],
   "source": [
    "# Cell 9: Final quick check\n",
    "import glob\n",
    "\n",
    "for f in sorted(glob.glob(os.path.join(OUT_DIR, '*.csv'))):\n",
    "    print(os.path.basename(f), \"-\", os.path.getsize(f), \"bytes\")"
   ]
  },
  {
   "cell_type": "code",
   "execution_count": 20,
   "id": "0fbb7a37-d6d8-4aea-80a2-b6a19ef4e293",
   "metadata": {},
   "outputs": [
    {
     "data": {
      "image/png": "[encoded data removed]",
      "text/plain": [
       "<Figure size 600x300 with 1 Axes>"
      ]
     },
     "metadata": {},
     "output_type": "display_data"
    }
   ],
   "source": [
    "# Cell 10: quick barplot of per-chromosome counts for test1\n",
    "chr_counts = df1_vars['CHROM'].value_counts()\n",
    "plt.figure(figsize=(6,3))\n",
    "chr_counts.plot.bar()\n",
    "plt.title('test1: variants per chromosome (50-variant test)')\n",
    "plt.tight_layout()\n",
    "plt.show()"
   ]
  },
  {
   "cell_type": "code",
   "execution_count": 21,
   "id": "1cf92b98-a54a-4653-8cba-b9ada3540cad",
   "metadata": {},
   "outputs": [
    {
     "name": "stdout",
     "output_type": "stream",
     "text": [
      "✅ Saved CSV results to: /home/user/clovertex_assignment/assignment_1_genomics_annotation/results\n"
     ]
    }
   ],
   "source": [
    "# Cell 8: Save outputs for reporting (corrected filenames)\n",
    "df1_ann.to_csv(os.path.join(OUT_DIR, 'test1_first50_annotations_expanded.csv'), index=False)\n",
    "df2_ann.to_csv(os.path.join(OUT_DIR, 'test2_first50_annotations_expanded.csv'), index=False)\n",
    "\n",
    "# Summaries\n",
    "pd.DataFrame([s1]).to_csv(os.path.join(OUT_DIR, 'test1_first50_summary.csv'), index=False)\n",
    "pd.DataFrame([s2]).to_csv(os.path.join(OUT_DIR, 'test2_first50_summary.csv'), index=False)\n",
    "\n",
    "# Save pathogenic/high-impact findings\n",
    "path1.to_csv(os.path.join(OUT_DIR, 'test1_first50_pathogenic_or_highimpact.csv'), index=False)\n",
    "path2.to_csv(os.path.join(OUT_DIR, 'test2_first50_pathogenic_or_highimpact.csv'), index=False)\n",
    "\n",
    "print(\"✅ Saved CSV results to:\", OUT_DIR)"
   ]
  },
  {
   "cell_type": "code",
   "execution_count": 22,
   "id": "317dae12-4edc-4de0-8dfa-c85a8b37ed08",
   "metadata": {},
   "outputs": [
    {
     "name": "stdout",
     "output_type": "stream",
     "text": [
      "✅ Variant & annotation summary variables ready:\n",
      "test1_first50: 50 total, 50 CSQ-tagged\n",
      "test2_first50: 50 total, 50 CSQ-tagged\n"
     ]
    }
   ],
   "source": [
    "import os, pandas as pd\n",
    "\n",
    "# Define file paths\n",
    "VCF_DIR = os.path.expanduser('~/clovertex_assignment/vcfs')\n",
    "test1_vcf = os.path.join(VCF_DIR, 'test1_first50_vep_output.vcf')\n",
    "test2_vcf = os.path.join(VCF_DIR, 'test2_first50_vep_output.vcf')\n",
    "\n",
    "# --- Count total records and CSQ occurrences ---\n",
    "!grep -v '^#' {test1_vcf} | wc -l > /tmp/v1_total.txt\n",
    "!grep -v '^#' {test1_vcf} | grep -c 'CSQ=' > /tmp/v1_csq.txt\n",
    "!grep -v '^#' {test2_vcf} | wc -l > /tmp/v2_total.txt\n",
    "!grep -v '^#' {test2_vcf} | grep -c 'CSQ=' > /tmp/v2_csq.txt\n",
    "\n",
    "# Read counts from temp files\n",
    "v1_total = int(open('/tmp/v1_total.txt').read().strip() or 0)\n",
    "v1_csq = int(open('/tmp/v1_csq.txt').read().strip() or 0)\n",
    "v2_total = int(open('/tmp/v2_total.txt').read().strip() or 0)\n",
    "v2_csq = int(open('/tmp/v2_csq.txt').read().strip() or 0)\n",
    "\n",
    "# --- Compute basic counts & duplicates for annotation dataframes ---\n",
    "df_counts = {\n",
    "    'test1': {\n",
    "        'df_variants': len(df1_vars),\n",
    "        'df_ann_unique_variants': df1_ann[['CHROM','POS']].drop_duplicates().shape[0],\n",
    "        'df_ann_rows': len(df1_ann)\n",
    "    },\n",
    "    'test2': {\n",
    "        'df_variants': len(df2_vars),\n",
    "        'df_ann_unique_variants': df2_ann[['CHROM','POS']].drop_duplicates().shape[0],\n",
    "        'df_ann_rows': len(df2_ann)\n",
    "    }\n",
    "}\n",
    "\n",
    "# Detect duplicates\n",
    "d1dup = df1_ann.duplicated(subset=['CHROM','POS']).sum()\n",
    "d2dup = df2_ann.duplicated(subset=['CHROM','POS']).sum()\n",
    "\n",
    "print(\"✅ Variant & annotation summary variables ready:\")\n",
    "print(f\"test1_first50: {v1_total} total, {v1_csq} CSQ-tagged\")\n",
    "print(f\"test2_first50: {v2_total} total, {v2_csq} CSQ-tagged\")"
   ]
  },
  {
   "cell_type": "code",
   "execution_count": 23,
   "id": "9e9d0199-8d0d-48e5-8b26-131fbbcd797e",
   "metadata": {},
   "outputs": [],
   "source": [
    "# Jupyter validation cell: analyze Nextflow VEP outputs and save validation_report\n",
    "# Paste this whole cell into assignment_1_analysis.ipynb and run\n",
    "\n",
    "import os, csv, gzip\n",
    "from pathlib import Path\n",
    "import pandas as pd"
   ]
  },
  {
   "cell_type": "code",
   "execution_count": 24,
   "id": "f2cb549c-dbd5-4cf0-86a8-2dd385e46745",
   "metadata": {},
   "outputs": [],
   "source": [
    "PROJECT = Path.home() / 'clovertex_assignment' / 'assignment_2_nextflow_pipeline'\n",
    "MANIFEST = PROJECT / 'samples.csv'\n",
    "RESULTS = PROJECT / 'results'\n",
    "RESULTS.mkdir(parents=True, exist_ok=True)"
   ]
  },
  {
   "cell_type": "code",
   "execution_count": 25,
   "id": "2c63d322-32bc-4b4a-966e-4e5e812492d7",
   "metadata": {},
   "outputs": [],
   "source": [
    "def open_text(p):\n",
    "    if str(p).endswith('.gz'):\n",
    "        return gzip.open(p, 'rt')\n",
    "    return open(p, 'r')\n",
    "\n",
    "def count_non_header(p):\n",
    "    c = 0\n",
    "    with open_text(p) as fh:\n",
    "        for line in fh:\n",
    "            if not line.startswith('#'):\n",
    "                c += 1\n",
    "    return c"
   ]
  },
  {
   "cell_type": "code",
   "execution_count": 26,
   "id": "1722e712-f654-4cda-8653-23cba7e8afed",
   "metadata": {},
   "outputs": [],
   "source": [
    "def analyze_annotated(p):\n",
    "    stats = {'annotated_total_records':0,'vcf_records_with_CSQ':0,'csq_header_present':False,\n",
    "             'annotated_unique_variants_count':0,'csq_entries_total':0,'variants_with_multiple_csq_entries':0}\n",
    "    per_variant = {}\n",
    "    uniq = set()\n",
    "    with open_text(p) as fh:\n",
    "        for line in fh:\n",
    "            if line.startswith('##INFO=<ID=CSQ'):\n",
    "                stats['csq_header_present'] = True\n",
    "            if not line.startswith('#'):\n",
    "                cols = line.rstrip().split('\\t')\n",
    "                if len(cols) < 8:\n",
    "                    continue\n",
    "                chrom,pos,vid,ref,alt,qual,flt,info = cols[:8]\n",
    "                stats['annotated_total_records'] += 1\n",
    "                if 'CSQ=' in info:\n",
    "                    stats['vcf_records_with_CSQ'] += 1\n",
    "                    key = (chrom,pos,ref,alt)\n",
    "                    uniq.add(key)\n",
    "                    csq = info.split('CSQ=')[1].split(';')[0]\n",
    "                    n = len(csq.split(',')) if csq else 0\n",
    "                    stats['csq_entries_total'] += n\n",
    "                    per_variant[key] = per_variant.get(key,0) + n\n",
    "    stats['annotated_unique_variants_count'] = len(uniq)\n",
    "    stats['variants_with_multiple_csq_entries'] = sum(1 for v in per_variant if per_variant[v] > 1)\n",
    "    return stats"
   ]
  },
  {
   "cell_type": "code",
   "execution_count": 27,
   "id": "1cf45516-6694-4bc9-963e-bfd077da79af",
   "metadata": {},
   "outputs": [],
   "source": [
    "import csv\n",
    "from pathlib import Path\n",
    "import pandas as pd\n",
    "import os\n",
    "\n",
    "RESULTS = Path('~/clovertex_assignment/assignment_2_nextflow_pipeline/results').expanduser()\n",
    "\n",
    "# Reopen the manifest file\n",
    "manifest = Path('~/clovertex_assignment/assignment_2_nextflow_pipeline/samples.csv').expanduser()\n",
    "with open(manifest) as f:\n",
    "    reader = list(csv.DictReader(f))  # Convert to list so file can close safely"
   ]
  },
  {
   "cell_type": "code",
   "execution_count": 28,
   "id": "94ef4ff7-65e3-4f70-984b-43fa5a1ca140",
   "metadata": {},
   "outputs": [
    {
     "name": "stdout",
     "output_type": "stream",
     "text": [
      "✅ Saved validation report to: /home/user/clovertex_assignment/assignment_2_nextflow_pipeline/results/validation_report_nextflow.csv\n"
     ]
    },
    {
     "data": {
      "text/html": [
       "<div>\n",
       "<style scoped>\n",
       "    .dataframe tbody tr th:only-of-type {\n",
       "        vertical-align: middle;\n",
       "    }\n",
       "\n",
       "    .dataframe tbody tr th {\n",
       "        vertical-align: top;\n",
       "    }\n",
       "\n",
       "    .dataframe thead th {\n",
       "        text-align: right;\n",
       "    }\n",
       "</style>\n",
       "<table border=\"1\" class=\"dataframe\">\n",
       "  <thead>\n",
       "    <tr style=\"text-align: right;\">\n",
       "      <th></th>\n",
       "      <th>sample</th>\n",
       "      <th>vcf_total_records_raw</th>\n",
       "      <th>annotated_vcf_path</th>\n",
       "      <th>annotated_total_records</th>\n",
       "      <th>csq_header_present</th>\n",
       "      <th>note</th>\n",
       "    </tr>\n",
       "  </thead>\n",
       "  <tbody>\n",
       "    <tr>\n",
       "      <th>0</th>\n",
       "      <td>test1_first50</td>\n",
       "      <td>50</td>\n",
       "      <td>/home/user/clovertex_assignment/assignment_2_n...</td>\n",
       "      <td>50</td>\n",
       "      <td>True</td>\n",
       "      <td></td>\n",
       "    </tr>\n",
       "    <tr>\n",
       "      <th>1</th>\n",
       "      <td>test2_first50</td>\n",
       "      <td>50</td>\n",
       "      <td>/home/user/clovertex_assignment/assignment_2_n...</td>\n",
       "      <td>50</td>\n",
       "      <td>True</td>\n",
       "      <td></td>\n",
       "    </tr>\n",
       "  </tbody>\n",
       "</table>\n",
       "</div>"
      ],
      "text/plain": [
       "          sample  vcf_total_records_raw  \\\n",
       "0  test1_first50                     50   \n",
       "1  test2_first50                     50   \n",
       "\n",
       "                                  annotated_vcf_path  annotated_total_records  \\\n",
       "0  /home/user/clovertex_assignment/assignment_2_n...                       50   \n",
       "1  /home/user/clovertex_assignment/assignment_2_n...                       50   \n",
       "\n",
       "   csq_header_present note  \n",
       "0                True       \n",
       "1                True       "
      ]
     },
     "execution_count": 28,
     "metadata": {},
     "output_type": "execute_result"
    }
   ],
   "source": [
    "rows = []\n",
    "\n",
    "for r in reader:\n",
    "    sample = r['sample_name']\n",
    "    raw_path = Path(r['vcf_path'])\n",
    "    ann_vcf = RESULTS / f\"{sample}_vep_output.vcf\"\n",
    "\n",
    "    rec = {\n",
    "        'sample': sample,\n",
    "        'vcf_total_records_raw': None,\n",
    "        'annotated_vcf_path': str(ann_vcf) if ann_vcf.exists() else None,\n",
    "        'annotated_total_records': None,\n",
    "        'csq_header_present': False\n",
    "    }\n",
    "\n",
    "    # ---- check raw file ----\n",
    "    if raw_path.exists():\n",
    "        rec['vcf_total_records_raw'] = sum(\n",
    "            1 for _ in open(raw_path) if not _.startswith('#')\n",
    "        )\n",
    "\n",
    "    # ---- check annotated output ----\n",
    "    if ann_vcf.exists():\n",
    "        rec['annotated_total_records'] = sum(\n",
    "            1 for _ in open(ann_vcf) if not _.startswith('#')\n",
    "        )\n",
    "        with open(ann_vcf) as f:\n",
    "            for line in f:\n",
    "                if line.startswith('##INFO=<ID=CSQ'):\n",
    "                    rec['csq_header_present'] = True\n",
    "                    break\n",
    "\n",
    "    # ---- notes section ----\n",
    "    notes = []\n",
    "    if rec['vcf_total_records_raw'] is not None and rec['annotated_total_records'] is not None:\n",
    "        if rec['vcf_total_records_raw'] != rec['annotated_total_records']:\n",
    "            notes.append('raw_vs_annotated_count_mismatch')\n",
    "    if not rec['annotated_vcf_path']:\n",
    "        notes.append('annotated_not_found')\n",
    "    if not rec['csq_header_present']:\n",
    "        notes.append('CSQ_header_missing')\n",
    "\n",
    "    rec['note'] = ';'.join(notes) if notes else ''\n",
    "    rows.append(rec)\n",
    "\n",
    "# ---- summary output ----\n",
    "df = pd.DataFrame(rows)\n",
    "out_csv = RESULTS / 'validation_report_nextflow.csv'\n",
    "df.to_csv(out_csv, index=False)\n",
    "\n",
    "print(\"✅ Saved validation report to:\", out_csv)\n",
    "df\n"
   ]
  }
 ],
 "metadata": {
  "kernelspec": {
   "display_name": "Python 3 (ipykernel)",
   "language": "python",
   "name": "python3"
  },
  "language_info": {
   "codemirror_mode": {
    "name": "ipython",
    "version": 3
   },
   "file_extension": ".py",
   "mimetype": "text/x-python",
   "name": "python",
   "nbconvert_exporter": "python",
   "pygments_lexer": "ipython3",
   "version": "3.12.3"
  }
 },
 "nbformat": 4,
 "nbformat_minor": 5
}
